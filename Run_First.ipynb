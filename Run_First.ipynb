{
 "cells": [
  {
   "cell_type": "code",
   "execution_count": 4,
   "id": "13d89743",
   "metadata": {},
   "outputs": [],
   "source": [
    "!mkdir -p data/models\n",
    "!mkdir -p data/output"
   ]
  },
  {
   "cell_type": "code",
   "execution_count": 5,
   "id": "45c2a690",
   "metadata": {},
   "outputs": [
    {
     "name": "stdout",
     "output_type": "stream",
     "text": [
      "--2022-01-03 10:22:55--  https://www.dropbox.com/s/b785zxbolfkvkb3/monodepth_resnet18_001.pth?dl=1\n",
      "Resolving www.dropbox.com (www.dropbox.com)... 162.125.81.18, 2620:100:6031:18::a27d:5112\n",
      "Connecting to www.dropbox.com (www.dropbox.com)|162.125.81.18|:443... connected.\n",
      "HTTP request sent, awaiting response... 301 Moved Permanently\n",
      "Location: /s/dl/b785zxbolfkvkb3/monodepth_resnet18_001.pth [following]\n",
      "--2022-01-03 10:22:55--  https://www.dropbox.com/s/dl/b785zxbolfkvkb3/monodepth_resnet18_001.pth\n",
      "Reusing existing connection to www.dropbox.com:443.\n",
      "HTTP request sent, awaiting response... 302 Found\n",
      "Location: https://ucd652209a7fe0c456d83c12ba90.dl.dropboxusercontent.com/cd/0/get/BdFvEIxJPz-q0cF6hJXSHTKLnFWN82SmLKDMwQgxegJFRbtEsOUfCsqwFgzD6EvIlpbFWVXtX1MN_lpIDqgOjZH_kMbPG4ebqo_eoW4DM_vw0A1X-zQf2NLis-V9b2iJlnIV4pQNo6AlhWowtUXH8bF-/file?dl=1# [following]\n",
      "--2022-01-03 10:22:55--  https://ucd652209a7fe0c456d83c12ba90.dl.dropboxusercontent.com/cd/0/get/BdFvEIxJPz-q0cF6hJXSHTKLnFWN82SmLKDMwQgxegJFRbtEsOUfCsqwFgzD6EvIlpbFWVXtX1MN_lpIDqgOjZH_kMbPG4ebqo_eoW4DM_vw0A1X-zQf2NLis-V9b2iJlnIV4pQNo6AlhWowtUXH8bF-/file?dl=1\n",
      "Resolving ucd652209a7fe0c456d83c12ba90.dl.dropboxusercontent.com (ucd652209a7fe0c456d83c12ba90.dl.dropboxusercontent.com)... 162.125.81.15, 2620:100:6030:15::a27d:500f\n",
      "Connecting to ucd652209a7fe0c456d83c12ba90.dl.dropboxusercontent.com (ucd652209a7fe0c456d83c12ba90.dl.dropboxusercontent.com)|162.125.81.15|:443... connected.\n",
      "HTTP request sent, awaiting response... 200 OK\n",
      "Length: 81027095 (77M) [application/binary]\n",
      "Saving to: ‘data/models/monodepth_resnet18_001_cpt.pth’\n",
      "\n",
      "data/models/monodep 100%[===================>]  77.27M  12.5MB/s    in 6.6s    \n",
      "\n",
      "2022-01-03 10:23:03 (11.7 MB/s) - ‘data/models/monodepth_resnet18_001_cpt.pth’ saved [81027095/81027095]\n",
      "\n"
     ]
    }
   ],
   "source": [
    "!wget https://www.dropbox.com/s/b785zxbolfkvkb3/monodepth_resnet18_001.pth?dl=1 -O data/models/monodepth_resnet18_001_cpt.pth"
   ]
  }
 ],
 "metadata": {
  "kernelspec": {
   "display_name": "Python 3",
   "language": "python",
   "name": "python3"
  },
  "language_info": {
   "codemirror_mode": {
    "name": "ipython",
    "version": 3
   },
   "file_extension": ".py",
   "mimetype": "text/x-python",
   "name": "python",
   "nbconvert_exporter": "python",
   "pygments_lexer": "ipython3",
   "version": "3.7.12"
  }
 },
 "nbformat": 4,
 "nbformat_minor": 5
}
